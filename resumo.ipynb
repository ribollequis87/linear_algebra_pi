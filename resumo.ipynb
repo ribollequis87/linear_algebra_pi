{
 "cells": [
  {
   "cell_type": "code",
   "execution_count": 3,
   "metadata": {},
   "outputs": [],
   "source": [
    "import numpy as np\n",
    "import matplotlib.pyplot as plt\n",
    "import matplotlib.image as mpimg\n",
    "import itertools\n",
    "from matplotlib.patches import Rectangle\n",
    "import pandas as pd"
   ]
  },
  {
   "cell_type": "code",
   "execution_count": 4,
   "metadata": {},
   "outputs": [],
   "source": [
    "# Rotação\n",
    "\n",
    "theta = np.pi / 3\n",
    "A = np.array([[np.cos(theta), -np.sin(theta)],\n",
    "              [np.sin(theta), np.cos(theta)]])"
   ]
  },
  {
   "cell_type": "code",
   "execution_count": null,
   "metadata": {},
   "outputs": [],
   "source": [
    "A = np.array( [[0.7, -0.7, 0], [0.7, 0.7, 0], [0, 0, 1]]) # Rotação\n",
    "B = np.array( [[1, 0, 1], [0, 1, 1], [0, 0, 1]]) # Translação\n",
    "C = np.array( [[1, 1, 0], [0, 1, 0], [0, 0, 1]]) # Cisalhamento\n",
    "D = np.array( [[0.5, 0, 0], [0, 0.9, 0], [0, 0, 1]]) # Contração"
   ]
  },
  {
   "cell_type": "code",
   "execution_count": 5,
   "metadata": {},
   "outputs": [
    {
     "name": "stdout",
     "output_type": "stream",
     "text": [
      "32\n",
      "[ 4 10 18]\n"
     ]
    }
   ],
   "source": [
    "vetor1 = np.array([1, 2, 3])\n",
    "vetor2 = np.array([4, 5, 6])\n",
    "\n",
    "produto_interno = np.inner(vetor1, vetor2)\n",
    "\n",
    "print(produto_interno)\n",
    "print(vetor1 * vetor2)"
   ]
  },
  {
   "cell_type": "markdown",
   "metadata": {},
   "source": [
    "1. Vetores Simples;\n",
    "2. \"Brigadeiro\", Multiplicação de Matrizes;\n",
    "3. Nuvem de pontos e Começo Imagens;\n",
    "4. Bases de Imagens, Pinhole."
   ]
  },
  {
   "cell_type": "markdown",
   "metadata": {},
   "source": [
    "* 100 ações da empresa E1 e 200 ações da E2 deram retorno de R$100,00,\n",
    "* 1000 ações da empresa E1 e 2000 ações da E2 deram retorno de R$1000,00,\n",
    "* 200 ações da empresa E2 e 300 da E3 deram retorno de R$500,00 \n",
    "* 400 ações da empresa E2 e 600 da E3 deram retorno de R$1000,00 \n",
    "* 1000 ações da empresa E1 e 100 da E3 deram retorno de R$1500,00\n",
    "* 2000 ações da empresa E1 e 200 da E3 deram retorno de R$3000,00 "
   ]
  },
  {
   "cell_type": "code",
   "execution_count": null,
   "metadata": {},
   "outputs": [],
   "source": [
    "# Matriz que representa o investimento nas ações das empresas\n",
    "A = np.array([[100,200,0],[0,200,300],[1000,0,100]])\n",
    "\n",
    "# Matriz que representa retorno de cada empresa\n",
    "R = np.array([[100],[500],[1500]])\n",
    "\n",
    "# Matriz que presenta o número de reais que são retornados com cada um real investido\n",
    "E = np.linalg.inv(A)@R\n",
    "\n",
    "# Resposta da pergunta 1\n",
    "print(E)"
   ]
  }
 ],
 "metadata": {
  "kernelspec": {
   "display_name": ".venv",
   "language": "python",
   "name": "python3"
  },
  "language_info": {
   "codemirror_mode": {
    "name": "ipython",
    "version": 3
   },
   "file_extension": ".py",
   "mimetype": "text/x-python",
   "name": "python",
   "nbconvert_exporter": "python",
   "pygments_lexer": "ipython3",
   "version": "3.11.4"
  }
 },
 "nbformat": 4,
 "nbformat_minor": 2
}
