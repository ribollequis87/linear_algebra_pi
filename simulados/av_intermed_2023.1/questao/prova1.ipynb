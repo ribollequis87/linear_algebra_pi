{
 "cells": [
  {
   "attachments": {},
   "cell_type": "markdown",
   "metadata": {},
   "source": [
    "# Avaliação Intermediária"
   ]
  },
  {
   "attachments": {},
   "cell_type": "markdown",
   "metadata": {},
   "source": [
    "Esta é a A.I. de Álgebra Linear e Teoria da Informação de 1s2023.\n",
    "\n",
    "\n",
    "\n",
    "INSTRUÇÕES:\n",
    "\n",
    "1. Faça todas as questões\n",
    "1. Salve o notebook\n",
    "1. Envie o notebook salvo no Blackboard\n",
    "\n",
    "IMPORTANTE:\n",
    "\n",
    "* Você pode consultar qualquer material ou IA, mas não qualquer colega ou pessoa humana, presente ou não na prova.\n",
    "* O envio da prova será fechado às 17h45. Aqueles que não enviarem o material até este horário ficarão com zero.\n",
    "* A prova vale um total de 10 pontos. As questões 1, 2, 3 e 4 têm, respectivamente, pesos 1, 2, 3 e 4.\n",
    "* Os conceitos F, E, D, C, B, A serão mapeados para 0, 2, 4, 6, 8 e 10.\n",
    "* Para todas as questões, usaremos a rubrica que segue anexa a esta prova. Há uma rubrica para a justificativa e uma rubrica para o código. A nota da questão é a menor entre as notas da justificativa e do código.\n"
   ]
  },
  {
   "cell_type": "code",
   "execution_count": 3,
   "metadata": {},
   "outputs": [],
   "source": [
    "import numpy as np\n",
    "import matplotlib.pyplot as plt\n",
    "import matplotlib.image as mpimg"
   ]
  },
  {
   "attachments": {},
   "cell_type": "markdown",
   "metadata": {},
   "source": [
    "## Exercício 1\n",
    "\n",
    "* Peso: 1 ponto\n",
    "\n",
    "Dadas as matrizes:\n",
    "\n",
    "$$\n",
    "A = \\begin{bmatrix} 1 & 3\\\\ 2 & 1 \\end{bmatrix} \\\\\n",
    "\n",
    "B = \\begin{bmatrix} 2 & 3\\\\ 5 & 8 \\end{bmatrix} \\\\\n",
    "\n",
    "C = AB \\\\\n",
    "\n",
    "D = BA \n",
    "$$\n",
    "\n",
    "calcule:\n",
    "\n",
    "$X = (ABC^{-1}BAD^{-1})^T \\odot A$\n",
    "\n"
   ]
  },
  {
   "cell_type": "code",
   "execution_count": 5,
   "metadata": {},
   "outputs": [
    {
     "data": {
      "text/plain": [
       "array([[ 1.00000000e+00, -1.06581410e-15],\n",
       "       [ 2.04281037e-15,  1.00000000e+00]])"
      ]
     },
     "execution_count": 5,
     "metadata": {},
     "output_type": "execute_result"
    }
   ],
   "source": [
    "A = np.array([[1, 3], [2, 1]])\n",
    "B = np.array([[2, 3], [5, 8]])\n",
    "C = A @ B\n",
    "D = B @ A\n",
    "\n",
    "X = (A @ B @ np.linalg.inv(C) @ B @ A @ np.linalg.inv(D)).T * A\n",
    "\n",
    "X"
   ]
  },
  {
   "cell_type": "markdown",
   "metadata": {},
   "source": [
    "Foi realizado multiplicações matriciais utilizando o operador @ e depois o operador *, que realiza uma multiplicação ponto a ponto."
   ]
  },
  {
   "attachments": {},
   "cell_type": "markdown",
   "metadata": {},
   "source": [
    "# Exercício 2\n",
    "\n",
    "* Peso: 2 pontos\n",
    "\n",
    "Tenho uma matriz $X$ que contém todas as posições $(i,j)$ de pixels de uma figura de 600x600 pixels, sendo cada pixel armazenado em uma coluna e cada dimensão armazenada em uma linha. Qual é a matriz que permite encolher essa figura de forma que cada uma de suas dimensões seja reduzida pela metade, mas seu centro seja preservado? Se precisar, use coordenadas homogêneas!\n",
    "\n",
    "________________________________________________________________________________________________________"
   ]
  },
  {
   "cell_type": "code",
   "execution_count": 11,
   "metadata": {},
   "outputs": [],
   "source": [
    "def criar_indices(min_i, max_i, min_j, max_j):\n",
    "    import itertools\n",
    "    L = list(itertools.product(range(min_i, max_i), range(min_j, max_j)))\n",
    "    idx_i = np.array([e[0] for e in L])\n",
    "    idx_j = np.array([e[1] for e in L])\n",
    "    idx = np.vstack( (idx_i, idx_j) )\n",
    "    return idx"
   ]
  },
  {
   "cell_type": "code",
   "execution_count": 17,
   "metadata": {},
   "outputs": [
    {
     "ename": "IndexError",
     "evalue": "index 768 is out of bounds for axis 0 with size 768",
     "output_type": "error",
     "traceback": [
      "\u001b[1;31m---------------------------------------------------------------------------\u001b[0m",
      "\u001b[1;31mIndexError\u001b[0m                                Traceback (most recent call last)",
      "Cell \u001b[1;32mIn[17], line 16\u001b[0m\n\u001b[0;32m     13\u001b[0m indices_original \u001b[38;5;241m=\u001b[39m indices_original\u001b[38;5;241m.\u001b[39mastype(\u001b[38;5;28mint\u001b[39m)\n\u001b[0;32m     14\u001b[0m matriz_final \u001b[38;5;241m=\u001b[39m matriz_final\u001b[38;5;241m.\u001b[39mastype(\u001b[38;5;28mint\u001b[39m)\n\u001b[1;32m---> 16\u001b[0m image_[matriz_final[\u001b[38;5;241m0\u001b[39m,:], matriz_final[\u001b[38;5;241m1\u001b[39m,:], :] \u001b[38;5;241m=\u001b[39m \u001b[43mimage\u001b[49m\u001b[43m[\u001b[49m\u001b[43mindices_original\u001b[49m\u001b[43m[\u001b[49m\u001b[38;5;241;43m0\u001b[39;49m\u001b[43m,\u001b[49m\u001b[43m:\u001b[49m\u001b[43m]\u001b[49m\u001b[43m,\u001b[49m\u001b[43m \u001b[49m\u001b[43mindices_original\u001b[49m\u001b[43m[\u001b[49m\u001b[38;5;241;43m1\u001b[39;49m\u001b[43m,\u001b[49m\u001b[43m:\u001b[49m\u001b[43m]\u001b[49m\u001b[43m,\u001b[49m\u001b[43m \u001b[49m\u001b[43m:\u001b[49m\u001b[43m]\u001b[49m\n\u001b[0;32m     18\u001b[0m plt\u001b[38;5;241m.\u001b[39mfigure(figsize\u001b[38;5;241m=\u001b[39m(\u001b[38;5;241m10\u001b[39m,\u001b[38;5;241m10\u001b[39m))\n\u001b[0;32m     19\u001b[0m plt\u001b[38;5;241m.\u001b[39msubplot(\u001b[38;5;241m1\u001b[39m,\u001b[38;5;241m2\u001b[39m,\u001b[38;5;241m1\u001b[39m)\n",
      "\u001b[1;31mIndexError\u001b[0m: index 768 is out of bounds for axis 0 with size 768"
     ]
    }
   ],
   "source": [
    "image = mpimg.imread(\"imagem.jpeg\")\n",
    "image_ = np.zeros_like(image)\n",
    "\n",
    "# resizing a imagem \n",
    "matriz_final = criar_indices(0, image.shape[0], 0, image.shape[1])\n",
    "matriz_final = np.vstack((matriz_final, np.ones(matriz_final.shape[1])))\n",
    "matriz_translacao = np.array([[1, 0, -(image.shape[0]/2)], [0, 1, -(image.shape[1]/2)], [0, 0, 1]])\n",
    "matriz_reducao_x = np.array([[0.5, 0, 0], [0, 0.5, 0], [0, 0, 1]])\n",
    "\n",
    "transformacao = np.linalg.inv(matriz_translacao) @ matriz_reducao_x @ matriz_translacao\n",
    "\n",
    "indices_original = np.linalg.inv(transformacao) @ matriz_final\n",
    "indices_original = indices_original.astype(int)\n",
    "matriz_final = matriz_final.astype(int)\n",
    "\n",
    "image_[matriz_final[0,:], matriz_final[1,:], :] = image[indices_original[0,:], indices_original[1,:], :]\n",
    "\n",
    "plt.figure(figsize=(10,10))\n",
    "plt.subplot(1,2,1)\n",
    "plt.imshow(image)\n",
    "plt.title('Origem')\n",
    "plt.subplot(1,2,2)\n",
    "plt.imshow(image_)\n",
    "plt.title('Destino')\n",
    "plt.show()"
   ]
  },
  {
   "cell_type": "markdown",
   "metadata": {},
   "source": [
    "Para realizar uma redução de uma imagem mantendo seu centro preservado, primeiro temos que transladar ela para o ponto de origem, realizar a redução e depois transladar ela novamente para o centro, da seguinte forma:\n",
    "\n",
    "$$\n",
    "T = \n",
    "\\begin{bmatrix}\n",
    "    1 & 0 & -300 \\\\\n",
    "    0 & 1 & -300 \\\\\n",
    "    0 & 0 & 1\n",
    "\\end{bmatrix}\n",
    "$$\n",
    "\n",
    "$$\n",
    "R = \n",
    "\\begin{bmatrix}\n",
    "    0.5 & 0 & 0 \\\\\n",
    "    0 & 0.5 & 0 \\\\\n",
    "    0 & 0 & 1\n",
    "\\end{bmatrix}\n",
    "$$\n",
    "\n",
    "Para realizar a translação da matriz novamente para seu ponto de origem, basta apenas multiplicar pelo inverso da matriz de translação original, portanto temos:\n",
    "\n",
    "matriz_final = np.linalg.inv(T) @ R @ T \n",
    "\n",
    "Dessa forma, temos a matriz de redução. "
   ]
  },
  {
   "attachments": {},
   "cell_type": "markdown",
   "metadata": {},
   "source": [
    "# Exercício 3\n",
    "\n",
    "* Peso: 3 pontos\n",
    "\n",
    "Algumas carteiras de investimento deram os seguintes retornos:\n",
    "\n",
    "* 100 ações da empresa E1 e 200 ações da E2 deram retorno de R$100,00,\n",
    "* 1000 ações da empresa E1 e 2000 ações da E2 deram retorno de R$1000,00,\n",
    "* 200 ações da empresa E2 e 300 da E3 deram retorno de R$500,00 \n",
    "* 400 ações da empresa E2 e 600 da E3 deram retorno de R$1000,00 \n",
    "* 1000 ações da empresa E1 e 100 da E3 deram retorno de R$1500,00\n",
    "* 2000 ações da empresa E1 e 200 da E3 deram retorno de R$3000,00 \n",
    "\n",
    "*Usando estritamente formulações matriciais*, responda:\n",
    "1. Qual é o retorno por ação de cada empresa?\n",
    "1. Qual é o retorno de uma carteira com 100 ações da empresa E1, 200 da empresa E2 e 300 da E3?\n",
    "\n",
    "________________________________________________________________________________________________________"
   ]
  },
  {
   "cell_type": "code",
   "execution_count": 43,
   "metadata": {},
   "outputs": [
    {
     "data": {
      "text/plain": [
       "(array([[ 1.32258065],\n",
       "        [-0.16129032],\n",
       "        [ 1.77419355]]),\n",
       " array([632.25806452]))"
      ]
     },
     "execution_count": 43,
     "metadata": {},
     "output_type": "execute_result"
    }
   ],
   "source": [
    "acoes = np.array([[100, 200, 0], [0, 200, 300], [1000, 0, 100]])\n",
    "retorno = np.array([[100], [500], [1500]])\n",
    "\n",
    "retorno_por_acao = np.linalg.solve(acoes, retorno)\n",
    "\n",
    "carteira = np.array([100, 200, 300])\n",
    "\n",
    "retorno_carteira = carteira @ retorno_por_acao\n",
    "\n",
    "retorno_por_acao, retorno_carteira"
   ]
  },
  {
   "attachments": {},
   "cell_type": "markdown",
   "metadata": {},
   "source": [
    "Para realizar o retorno por ação, foi necessário escolher uma matriz que não fosse singular, portanto que tivesse combinações diferentes que me trouxessem o resultado. Quando fiz com todas as carteiras, deu um problema de matriz quadrada, e ai depois quando escolhi as tres primeiras deu um problema de matriz singular, portanto a escolha das carteiras utilizadas importa. Levando isso em consideração, eu escolhi as carteiras: 1, 3 e 5, isso porque elas combinam E1 com E2, E2 com E3 e E1 com E3, deixando viável para que encontremos o retorno de cada ação. Para tanto, realizei a multipliação matricial, utilizando o np.linalg.solve, que nada mais é que a multipliação do inverso da matriz de ações pela de retornos. Após isso, o que foi feito para descobrir o retorno das empresas, foi apenas multiplicar o retorno de cada ação pela carteira disponibilizada. "
   ]
  },
  {
   "attachments": {},
   "cell_type": "markdown",
   "metadata": {},
   "source": [
    "# Exercício 4\n",
    "\n",
    "* Peso: 4 pontos\n",
    "\n",
    "Uma maneira de fazer transformações em imagens é usar pontos de referência. Por exemplo, podemos definir pontos de referência em um rosto como o centro de cada um dos olhos, a ponta do nariz e o ponto inferior do queixo. Daí então, encontramos onde esses pontos estão na imagem de origem, e escolhemos (como quisermos) onde os pontos estão na imagem de destino. Encontramos a transformação linear que realiza esse mapeamento, e então aplicamos essa mesma transformação para todos os pontos da imagem, isto é:\n",
    "\n",
    "$$\n",
    "Xd = T X,\n",
    "$$\n",
    "\n",
    "onde $Xd$ é uma matriz com pontos na imagem de destino, $X$ é uma matriz com pontos na imagem de origem, e $T$ é uma transformação linear.\n",
    "\n",
    "Num rosto, em uma imagem que está mapeada no plano cartesiano (isto é, no plano usual $x,y$ e não numa matriz de pixels), encontramos:\n",
    "\n",
    "* O olho esquerdo em $(-2, 3)$,\n",
    "* o olho direito em $(2, 3)$\n",
    "* A ponta do nariz em $(0,0)$\n",
    "* O ponto inferior do queixo em $(0, -3)$\n",
    "\n",
    "O rosto foi mapeado usando uma transformação linear de forma que os pontos de referência foram deslocados para:\n",
    "\n",
    "* O olho esquerdo em $(-6, 2)$,\n",
    "* o olho direito em $(6, 1)$\n",
    "* A ponta do nariz em $(3, 0)$\n",
    "\n",
    "Usando formulações matriciais, responda: qual é a distância entre o ponto inferior do queixo e a ponta do nariz no novo mapeamento?\n",
    "\n",
    "\n",
    "________________________________________________________________________________________________________"
   ]
  },
  {
   "cell_type": "code",
   "execution_count": 47,
   "metadata": {},
   "outputs": [
    {
     "data": {
      "text/plain": [
       "(array([ 6. , -1.5,  1. ]), 3.3541019662496847)"
      ]
     },
     "execution_count": 47,
     "metadata": {},
     "output_type": "execute_result"
    }
   ],
   "source": [
    "pts_origem = np.array([[-2, 3], [2, 3], [0, 0]])\n",
    "pts_destino = np.array([[-6, 2], [6, 1], [3, 0]])\n",
    "\n",
    "v = np.vstack((pts_origem.T, np.ones(pts_origem.shape[0])))\n",
    "w = np.vstack((pts_destino.T, np.ones(pts_destino.shape[0])))\n",
    "B = w @ np.linalg.inv(v)\n",
    "\n",
    "ponto_inf_queixo_novo = B @ np.array([0, -3, 1])\n",
    "\n",
    "# distância da ponta do nariz ao ponto inferior do queixo\n",
    "dist_ponto_inf_nariz_novo = np.linalg.norm(np.array([3, 0, 1]) - ponto_inf_queixo_novo)\n",
    "\n",
    "ponto_inf_queixo_novo, dist_ponto_inf_nariz_novo"
   ]
  },
  {
   "attachments": {},
   "cell_type": "markdown",
   "metadata": {},
   "source": [
    "Para encontrar a matriz B, foi necessário utilizarmos os pontos origem e os de destino que tínhamos em ambos, sendo eles o olho esquerdo, direito e a ponta do nariz. Fazendo uso desses pontos, pude realizar a operação para descobrir a matriz B que multiplica os pontos de origem para chegar na matriz dos pontos de destino, como foi identificado. Sendo assim, após descobrir a matriz que multiplica, para descobrir o ponto novo do queixo, bastou multiplicar a matriz B pelos pontos de origem do queixo, e para descobrir a distância, utilizei a norma do vetor, calculando pelo np.linalg.norm, que devolve a distância entre dois vetores."
   ]
  }
 ],
 "metadata": {
  "kernelspec": {
   "display_name": "base",
   "language": "python",
   "name": "python3"
  },
  "language_info": {
   "codemirror_mode": {
    "name": "ipython",
    "version": 3
   },
   "file_extension": ".py",
   "mimetype": "text/x-python",
   "name": "python",
   "nbconvert_exporter": "python",
   "pygments_lexer": "ipython3",
   "version": "3.11.4"
  },
  "orig_nbformat": 4
 },
 "nbformat": 4,
 "nbformat_minor": 2
}
