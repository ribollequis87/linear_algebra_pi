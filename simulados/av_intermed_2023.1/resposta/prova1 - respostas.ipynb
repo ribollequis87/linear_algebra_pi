{
 "cells": [
  {
   "attachments": {},
   "cell_type": "markdown",
   "metadata": {},
   "source": [
    "# Avaliação Intermediária\n",
    "\n",
    "NOME: **João Alfredo Cardoso Lamy**\n",
    "E-MAIL: **joaoacl@al.insper.edu.br**"
   ]
  },
  {
   "attachments": {},
   "cell_type": "markdown",
   "metadata": {},
   "source": [
    "Esta é a A.I. de Álgebra Linear e Teoria da Informação de 1s2023.\n",
    "\n",
    "\n",
    "\n",
    "INSTRUÇÕES:\n",
    "\n",
    "1. Faça todas as questões\n",
    "1. Salve o notebook\n",
    "1. Envie o notebook salvo no Blackboard\n",
    "\n",
    "IMPORTANTE:\n",
    "\n",
    "* Você pode consultar qualquer material ou IA, mas não qualquer colega ou pessoa humana, presente ou não na prova.\n",
    "* O envio da prova será fechado às 17h45. Aqueles que não enviarem o material até este horário ficarão com zero.\n",
    "* A prova vale um total de 10 pontos. As questões 1, 2, 3 e 4 têm, respectivamente, pesos 1, 2, 3 e 4.\n",
    "* Os conceitos F, E, D, C, B, A serão mapeados para 0, 2, 4, 6, 8 e 10.\n",
    "* Para todas as questões, usaremos a rubrica que segue anexa a esta prova. Há uma rubrica para a justificativa e uma rubrica para o código. A nota da questão é a menor entre as notas da justificativa e do código.\n"
   ]
  },
  {
   "cell_type": "code",
   "execution_count": 110,
   "metadata": {},
   "outputs": [],
   "source": [
    "import numpy as np"
   ]
  },
  {
   "attachments": {},
   "cell_type": "markdown",
   "metadata": {},
   "source": [
    "## Exercício 1\n",
    "\n",
    "* Peso: 1 ponto\n",
    "\n",
    "Dadas as matrizes:\n",
    "\n",
    "$$\n",
    "A = \\begin{bmatrix} 1 & 3 &\\\\ 2 & 1 \\end{bmatrix} \\\\\n",
    "\n",
    "B = \\begin{bmatrix} 2 & 3\\\\ 5 & 8 \\end{bmatrix} \\\\\n",
    "\n",
    "C = AB \\\\\n",
    "\n",
    "D = BA \n",
    "$$\n",
    "\n",
    "calcule:\n",
    "\n",
    "$X = (ABC^{-1}BAD^{-1})^T \\odot A$\n",
    "\n"
   ]
  },
  {
   "cell_type": "code",
   "execution_count": 111,
   "metadata": {},
   "outputs": [
    {
     "data": {
      "text/plain": [
       "array([[ 1.00000000e+00, -1.06581410e-15],\n",
       "       [ 2.04281037e-15,  1.00000000e+00]])"
      ]
     },
     "execution_count": 111,
     "metadata": {},
     "output_type": "execute_result"
    }
   ],
   "source": [
    "# declaração das variáveis colocadas na questão\n",
    "A = np.array([[1,3],[2,1]])\n",
    "B = np.array([[2,3],[5,8]])\n",
    "C = A@B\n",
    "D = B@A\n",
    "\n",
    "# definição do X, resultado de operações com matrizes que são explicitadas no enunciado da questão\n",
    "X = (A@B@np.linalg.inv(C)@B@A@np.linalg.inv(D)).T * A\n",
    "\n",
    "# print da variável X, resultado da conta que foi pedida no enunciado\n",
    "X"
   ]
  },
  {
   "attachments": {},
   "cell_type": "markdown",
   "metadata": {},
   "source": [
    "# Exercício 2\n",
    "\n",
    "* Peso: 2 pontos\n",
    "\n",
    "Tenho uma matriz $X$ que contém todas as posições $(i,j)$ de pixels de uma figura de 600x600 pixels, sendo cada pixel armazenado em uma coluna e cada dimensão armazenada em uma linha. Qual é a matriz que permite encolher essa figura de forma que cada uma de suas dimensões seja reduzida pela metade, mas seu centro seja preservado? Se precisar, use coordenadas homogêneas!\n",
    "\n",
    "________________________________________________________________________________________________________"
   ]
  },
  {
   "attachments": {},
   "cell_type": "markdown",
   "metadata": {},
   "source": [
    "A matriz que permitirá fazer todas as transformações necessárias e manter sua imagem no seu próprio centro seria uma que transladasse a imagem ao ponto de origem ($T$), aplicasse o encolhimento ($E$) e depois voltasse ela ao seu ponto original ($C$). \n",
    "\n",
    "$$\n",
    "T = \n",
    "\\begin{bmatrix}\n",
    "    1 & 0 & -300 \\\\\n",
    "    0 & 1 & -300 \\\\\n",
    "    0 & 0 & 1\n",
    "\\end{bmatrix}\n",
    "$$\n",
    "\n",
    "$$\n",
    "E = \n",
    "\\begin{bmatrix}\n",
    "    0.5 & 0 & 0 \\\\\n",
    "    0 & 0.5 & 0 \\\\\n",
    "    0 & 0 & 1\n",
    "\\end{bmatrix}\n",
    "$$\n",
    "\n",
    "$$\n",
    "C = \n",
    "\\begin{bmatrix}\n",
    "    1 & 0 & 300 \\\\\n",
    "    0 & 1 & 300 \\\\\n",
    "    0 & 0 & 1\n",
    "\\end{bmatrix}\n",
    "$$\n",
    "\n",
    "Dessa maneira temos que $M$ (a matriz procurada) é:\n",
    "\n",
    "$M = C E T $\n",
    "\n",
    "Agora é só questão de calcular a matriz $M$. \n",
    "\n",
    "Para poder utilizar ela com $X$, precisamos de uma dimensão de 1s (uns) em uma nova linha abaixo das duas já presentes na matriz da imagem, para que a translação de pontos seja possível. Mas, já que o exercício apenas pede a matriz M, não acho importante entrar em mais detalhes sobre."
   ]
  },
  {
   "cell_type": "code",
   "execution_count": 121,
   "metadata": {},
   "outputs": [
    {
     "data": {
      "text/plain": [
       "array([[  0.5,   0. , 151. ],\n",
       "       [  0. ,   0.5, 150. ],\n",
       "       [  0. ,   0. ,   1. ]])"
      ]
     },
     "execution_count": 121,
     "metadata": {},
     "output_type": "execute_result"
    }
   ],
   "source": [
    "T = np.array([[1,0,-300],[0,1,-300],[0,0,1]])\n",
    "E = np.array([[0.5,0,1],[0,0.5,0],[0,0,1]])\n",
    "C = np.array([[1,0,300],[0,1,300],[0,0,1]])\n",
    "\n",
    "M = C@E@T\n",
    "M"
   ]
  },
  {
   "attachments": {},
   "cell_type": "markdown",
   "metadata": {},
   "source": [
    "# Exercício 3\n",
    "\n",
    "* Peso: 3 pontos\n",
    "\n",
    "Algumas carteiras de investimento deram os seguintes retornos:\n",
    "\n",
    "* 100 ações da empresa E1 e 200 ações da E2 deram retorno de R$100,00,\n",
    "* 1000 ações da empresa E1 e 2000 ações da E2 deram retorno de R$1000,00,\n",
    "* 200 ações da empresa E2 e 300 da E3 deram retorno de R$500,00 \n",
    "* 400 ações da empresa E2 e 600 da E3 deram retorno de R$1000,00 \n",
    "* 1000 ações da empresa E1 e 100 da E3 deram retorno de R$1500,00\n",
    "* 2000 ações da empresa E1 e 200 da E3 deram retorno de R$3000,00 \n",
    "\n",
    "*Usando estritamente formulações matriciais*, responda:\n",
    "1. Qual é o retorno por ação de cada empresa?\n",
    "1. Qual é o retorno de uma carteira com 100 ações da empresa E1, 200 da empresa E2 e 300 da E3?\n",
    "\n",
    "________________________________________________________________________________________________________"
   ]
  },
  {
   "attachments": {},
   "cell_type": "markdown",
   "metadata": {},
   "source": [
    "Uma maneira de modelar esse problema é utilizando matrizes. \n",
    "\n",
    "Vamos criar uma matriz $A$, que representa o investimento feito em cada empresa (com cada carteira sendo representada por cada linha, onde cada empresa possui sua própria coluna). Escolhi modelar ela com os tópicos 1, 3 e 5 dos retornos, pois são os que nos dão os resultados mais completos para que seja possível realizar a comparação de preços (além de tornar a matriz quadrada, possibilitando realizar o processo de inversão de matrizes). Assim ficamos com a matriz:\n",
    "\n",
    "$$\n",
    "A = \n",
    "\\begin{bmatrix}\n",
    "    100 & 200 & 0 \\\\\n",
    "    0 & 200 & 300 \\\\\n",
    "    1000 & 0 & 100\n",
    "\\end{bmatrix}\n",
    "$$\n",
    "\n",
    "\n",
    "Após isso, temos a matriz de retornos finais, que nos mostra qual é o retorno total do nosso investimento nas empresas. Ela tem apenas uma coluna, e cada linha representa o retorno total de cada carteira, então, se eu investir em 100 ações da empresa E1 e 200 ações da E2 na primeira linha de $A$, a primeira linha de R será 100 (o retorno dessa carteira que foi especificado no enunciado). Assim, a matriz $R$ fica:\n",
    "\n",
    "$$\n",
    "R = \n",
    "\\begin{bmatrix}\n",
    "    100 \\\\\n",
    "    500 \\\\\n",
    "    1500\n",
    "\\end{bmatrix}\n",
    "$$\n",
    "\n",
    "Normalmente, temos um processo onde sabemos o retorno por ação, com a modelagem do problema sendo:\n",
    "\n",
    "$R = AE $\n",
    "\n",
    "A matriz $E$ é onde teríamos essas informações (retorno por ação de cada empresa), mas ela não nos foi dada, portanto, teremos que calculá-la utilizando a inversa de $A$. Ficando, assim, com a seguinte conta:\n",
    "\n",
    "$E = A^{-1}R$\n",
    "\n",
    "Dessa maneira, conseguimos a matriz E, e, com isso, podemos calcular o retorno de qualquer carteira.\n"
   ]
  },
  {
   "cell_type": "code",
   "execution_count": 113,
   "metadata": {},
   "outputs": [
    {
     "name": "stdout",
     "output_type": "stream",
     "text": [
      "[[ 1.32258065]\n",
      " [-0.16129032]\n",
      " [ 1.77419355]]\n"
     ]
    }
   ],
   "source": [
    "# Matriz que representa o investimento nas ações das empresas\n",
    "A = np.array([[100,200,0],[0,200,300],[1000,0,100]])\n",
    "\n",
    "# Matriz que representa retorno de cada empresa\n",
    "R = np.array([[100],[500],[1500]])\n",
    "\n",
    "# Matriz que presenta o número de reais que são retornados com cada um real investido\n",
    "E = np.linalg.inv(A)@R\n",
    "\n",
    "# Resposta da pergunta 1\n",
    "print(E)"
   ]
  },
  {
   "cell_type": "code",
   "execution_count": 114,
   "metadata": {},
   "outputs": [
    {
     "name": "stdout",
     "output_type": "stream",
     "text": [
      "[[100.]]\n",
      "[[ 100.]\n",
      " [ 500.]\n",
      " [1500.]]\n",
      "[[ 100]\n",
      " [ 500]\n",
      " [1500]]\n"
     ]
    }
   ],
   "source": [
    "# Testando para ver se o resultado de \"100 ações da empresa E1 e 200 ações da E2\" realmente retorna 100\n",
    "A1 = np.array([[100,200,0]])\n",
    "print(A1@E)\n",
    "\n",
    "print(A@E)\n",
    "print(R)"
   ]
  },
  {
   "cell_type": "code",
   "execution_count": 115,
   "metadata": {},
   "outputs": [
    {
     "data": {
      "text/plain": [
       "array([[632.25806452]])"
      ]
     },
     "execution_count": 115,
     "metadata": {},
     "output_type": "execute_result"
    }
   ],
   "source": [
    "# Respondendo a pergunta 2\n",
    "pergunta2 = np.array([[100,200,300]])\n",
    "pergunta2@E"
   ]
  },
  {
   "attachments": {},
   "cell_type": "markdown",
   "metadata": {},
   "source": [
    "# Exercício 4\n",
    "\n",
    "* Peso: 4 pontos\n",
    "\n",
    "Uma maneira de fazer transformações em imagens é usar pontos de referência. Por exemplo, podemos definir pontos de referência em um rosto como o centro de cada um dos olhos, a ponta do nariz e o ponto inferior do queixo. Daí então, encontramos onde esses pontos estão na imagem de origem, e escolhemos (como quisermos) onde os pontos estão na imagem de destino. Encontramos a transformação linear que realiza esse mapeamento, e então aplicamos essa mesma transformação para todos os pontos da imagem, isto é:\n",
    "\n",
    "$$\n",
    "Xd = T X,\n",
    "$$\n",
    "\n",
    "onde $Xd$ é uma matriz com pontos na imagem de destino, $X$ é uma matriz com pontos na imagem de origem, e $T$ é uma transformação linear.\n",
    "\n",
    "Num rosto, em uma imagem que está mapeada no plano cartesiano (isto é, no plano usual $x,y$ e não numa matriz de pixels), encontramos:\n",
    "\n",
    "* O olho esquerdo em $(-2, 3)$,\n",
    "* o olho direito em $(2, 3)$\n",
    "* A ponta do nariz em $(0,0)$\n",
    "* O ponto inferior do queixo em $(0, -3)$\n",
    "\n",
    "O rosto foi mapeado usando uma transformação linear de forma que os pontos de referência foram deslocados para:\n",
    "\n",
    "* O olho esquerdo em $(-6, 2)$,\n",
    "* o olho direito em $(6, 1)$\n",
    "* A ponta do nariz em $(3, 0)$\n",
    "\n",
    "Usando formulações matriciais, responda: qual é a distância entre o ponto inferior do queixo e a ponta do nariz no novo mapeamento?\n",
    "\n",
    "\n",
    "________________________________________________________________________________________________________"
   ]
  },
  {
   "attachments": {},
   "cell_type": "markdown",
   "metadata": {},
   "source": [
    "Para realizar essa conta, precisamos definir a matriz $X$ de entrada, assim como a matriz $Xd$ de saída. cada uma tem uma linha que representa os valores da coordenada x, uma outra linha para a coordenada y e uma terceira linha apenas com 1s (uns) que permite o processo de transladar.\n",
    "\n",
    "$$\n",
    "X = \n",
    "\\begin{bmatrix}\n",
    "    -2 & 2 & 0 \\\\\n",
    "    3 & 3 & 0 \\\\\n",
    "    1 & 1 & 1\n",
    "\\end{bmatrix}\n",
    "$$\n",
    "\n",
    "$$\n",
    "Xd = \n",
    "\\begin{bmatrix}\n",
    "    -6 & 6 & 3 \\\\\n",
    "    2 & 1 & 0 \\\\\n",
    "    1 & 1 & 1\n",
    "\\end{bmatrix}\n",
    "$$\n",
    "\n",
    "\n",
    "Escolhi representar os pontos referentes ao olho esquerdo, direito e a ponta do nariz pois são os únicos que tem um correspondente direto no espaço deslocado.\n",
    "\n",
    "Como o próprio exercício menciona, para chegar nesse novo espaço ($Xd$) temos que multiplicar a matriz $X$ por uma matriz de tranformação $T$. Nós não temos essa matriz $T$, mas conseguimos calcular ela utilizando a inversa de $X$, a conta fica:\n",
    "\n",
    "$T = Xd X^{-1}$\n",
    "\n",
    "Com a matriz $T$, conseguimos obter o ponto da parte inferior do queixo e, finalmente, calcular a distância entre os pontos pedidos (inferior do queixo e ponta do nariz)."
   ]
  },
  {
   "cell_type": "code",
   "execution_count": 116,
   "metadata": {},
   "outputs": [],
   "source": [
    "# Array do plano cartesiano\n",
    "X = np.array([[-2,3,1],[2,3,1],[0,0,1]]).T\n",
    "\n",
    "# Array novo (array destino)\n",
    "Xd = np.array([[-6,2,1],[6,1,1],[3,0,1]]).T"
   ]
  },
  {
   "attachments": {},
   "cell_type": "markdown",
   "metadata": {},
   "source": [
    "$Xd = TX$\n",
    "\n",
    "\n",
    "$T = Xd X^{-1}$"
   ]
  },
  {
   "cell_type": "code",
   "execution_count": 117,
   "metadata": {},
   "outputs": [
    {
     "data": {
      "text/plain": [
       "array([[ 3.  , -1.  ,  3.  ],\n",
       "       [-0.25,  0.5 ,  0.  ],\n",
       "       [ 0.  ,  0.  ,  1.  ]])"
      ]
     },
     "execution_count": 117,
     "metadata": {},
     "output_type": "execute_result"
    }
   ],
   "source": [
    "# Descobrindo o array de transformação T\n",
    "T = Xd@np.linalg.inv(X)\n",
    "\n",
    "T"
   ]
  },
  {
   "cell_type": "code",
   "execution_count": 118,
   "metadata": {},
   "outputs": [
    {
     "name": "stdout",
     "output_type": "stream",
     "text": [
      "A ponta do nariz (3,0)\n"
     ]
    }
   ],
   "source": [
    "# Checando com o ponto do Nariz para ver se T está correto\n",
    "nariz = np.array([[0,0,1]]).T\n",
    "\n",
    "nariz = T@nariz\n",
    "nariz = nariz.T\n",
    "\n",
    "print(f\"A ponta do nariz ({nariz[0][0].astype(int)},{nariz[0][1].astype(int)})\")"
   ]
  },
  {
   "cell_type": "code",
   "execution_count": 119,
   "metadata": {},
   "outputs": [
    {
     "data": {
      "text/plain": [
       "array([[ 6. , -1.5,  1. ]])"
      ]
     },
     "execution_count": 119,
     "metadata": {},
     "output_type": "execute_result"
    }
   ],
   "source": [
    "# Ponto inferior do queixo\n",
    "piq = np.array([[0,-3,1]]).T\n",
    "piq = T@piq\n",
    "piq = piq.T\n",
    "piq"
   ]
  },
  {
   "cell_type": "code",
   "execution_count": 120,
   "metadata": {},
   "outputs": [
    {
     "data": {
      "text/plain": [
       "3.3541019662496847"
      ]
     },
     "execution_count": 120,
     "metadata": {},
     "output_type": "execute_result"
    }
   ],
   "source": [
    "# Calculando a distância entre os dois pontos (ponto inferior do queixo e a ponta do nariz no novo mapeamento)\n",
    "\n",
    "dist = np.sqrt((nariz[0][0]-piq[0][0])**2+(nariz[0][1]-piq[0][1])**2)\n",
    "dist"
   ]
  }
 ],
 "metadata": {
  "kernelspec": {
   "display_name": "base",
   "language": "python",
   "name": "python3"
  },
  "language_info": {
   "codemirror_mode": {
    "name": "ipython",
    "version": 3
   },
   "file_extension": ".py",
   "mimetype": "text/x-python",
   "name": "python",
   "nbconvert_exporter": "python",
   "pygments_lexer": "ipython3",
   "version": "3.10.2"
  },
  "orig_nbformat": 4
 },
 "nbformat": 4,
 "nbformat_minor": 2
}
