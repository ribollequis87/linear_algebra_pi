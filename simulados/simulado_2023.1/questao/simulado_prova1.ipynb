{
 "cells": [
  {
   "cell_type": "code",
   "execution_count": 5,
   "metadata": {},
   "outputs": [],
   "source": [
    "import numpy as np\n",
    "import matplotlib.pyplot as plt"
   ]
  },
  {
   "attachments": {},
   "cell_type": "markdown",
   "metadata": {},
   "source": [
    "# Simulado para a prova"
   ]
  },
  {
   "attachments": {},
   "cell_type": "markdown",
   "metadata": {},
   "source": [
    "## Exercício 1\n",
    "\n",
    "Dadas as matrizes:\n",
    "\n",
    "$$\n",
    "A = \\begin{bmatrix} 0 & 1\\\\ 2 & 3 \\end{bmatrix} \\\\\n",
    "\n",
    "B = \\begin{bmatrix} 7 & 9\\\\ 23 & -1 \\end{bmatrix}\n",
    "$$\n",
    "\n",
    "calcule:\n",
    "\n",
    "1. $AB$\n",
    "1. $BA$\n",
    "1. $A \\odot B$\n",
    "1. $A^TB$\n",
    "1. $AB^{-1}$\n",
    "\n",
    "$(AB)^T = B^T A^T$\n"
   ]
  },
  {
   "cell_type": "code",
   "execution_count": 4,
   "metadata": {},
   "outputs": [],
   "source": [
    "quadrado_vermelho = np.array([[0, 1], [2, 3]])\n",
    "quadrado_azul = np.array([[7, 9], [23, -1]])\n",
    "\n",
    "p1 = quadrado_vermelho @ quadrado_azul\n",
    "p2 = quadrado_azul @ quadrado_vermelho\n",
    "p3 = quadrado_vermelho * quadrado_azul\n",
    "p4 = quadrado_vermelho.T @ quadrado_azul\n",
    "p5 = quadrado_vermelho @ np.linalg.inv(quadrado_azul)\n",
    "\n",
    "# p6 and p7 are the same\n",
    "p6 = (quadrado_vermelho @ quadrado_azul).T\n",
    "p7 = quadrado_azul.T @ quadrado_vermelho.T"
   ]
  },
  {
   "attachments": {},
   "cell_type": "markdown",
   "metadata": {},
   "source": [
    "# Exercício 2\n",
    "\n",
    "Eu tenho uma núvem de pontos que está em um quadrado cujo centro é o ponto $(-2,3)$. Qual é a matriz que transforma essa núvem de pontos em uma núvem semelhante, rotacionada de 30 graus no sentido anti-horário, centrada em $(5,5)$? Se precisar, use coordenadas homogêneas!"
   ]
  },
  {
   "attachments": {},
   "cell_type": "markdown",
   "metadata": {},
   "source": [
    "$$\n",
    "R = \n",
    "\\begin{bmatrix}\n",
    "    \\cos(\\theta) & -\\sin(\\theta) & 0 \\\\\n",
    "    \\sin(\\theta) & \\cos(\\theta) & 0 \\\\\n",
    "    0 & 0 & 1\n",
    "\\end{bmatrix}\n",
    "$$\n",
    "\n",
    "$$\n",
    "T = \n",
    "\\begin{bmatrix}\n",
    "    1 & 0 & \\Delta x \\\\\n",
    "    0 & 1 & \\Delta y \\\\\n",
    "    0 & 0 & 1\n",
    "\\end{bmatrix}\n",
    "$$"
   ]
  },
  {
   "cell_type": "code",
   "execution_count": 20,
   "metadata": {},
   "outputs": [],
   "source": [
    "matriz_translacao_vermelha = np.array([[1, 0, -2], [0, 1, 3], [0, 0, 1]]) \n",
    "ang_rad = np.deg2rad(30)\n",
    "matriz_rotacao = np.array([[np.cos(ang_rad), -np.sin(ang_rad), 0], [np.sin(ang_rad), np.cos(ang_rad), 0], [0, 0, 1]])\n",
    "matriz_translacao_azul = np.array([[1, 0, 5], [0, 1, 5], [0, 0, 1]])\n",
    "\n",
    "matriz_transformacao = matriz_translacao_azul @ matriz_rotacao @ matriz_translacao_vermelha"
   ]
  },
  {
   "cell_type": "code",
   "execution_count": 36,
   "metadata": {},
   "outputs": [
    {
     "data": {
      "image/png": "[encoded data removed]",
      "text/plain": [
       "<Figure size 640x480 with 1 Axes>"
      ]
     },
     "metadata": {},
     "output_type": "display_data"
    }
   ],
   "source": [
    "nuvem_pontos_vermelha = np.random.uniform(-1, 1, size=(2, 6000))\n",
    "nuvem_pontos_vermelha = np.vstack((nuvem_pontos_vermelha, np.ones(nuvem_pontos_vermelha.shape[1])))\n",
    "nuvem_pontos_vermelha = matriz_translacao_vermelha @ nuvem_pontos_vermelha\n",
    "\n",
    "nuvem_pontos_azul = matriz_translacao_azul @ matriz_rotacao @ np.linalg.inv(matriz_translacao_vermelha)\n",
    "nuvem_pontos_azul = nuvem_pontos_azul @ nuvem_pontos_vermelha\n",
    "\n",
    "plt.figure()\n",
    "plt.scatter(nuvem_pontos_vermelha[0,:], nuvem_pontos_vermelha[1,:], s=1, c='r', label='Espaço v1,v2')\n",
    "plt.scatter(nuvem_pontos_azul[0,:], nuvem_pontos_azul[1,:], s=1, c='b', label='Espaço v1,v2 transformado')\n",
    "plt.xlim([-10, 10])\n",
    "plt.ylim([-10, 10])\n",
    "plt.grid()\n",
    "plt.legend()\n",
    "plt.show()"
   ]
  },
  {
   "attachments": {},
   "cell_type": "markdown",
   "metadata": {},
   "source": [
    "# Exercício 3\n",
    "\n",
    "Quatro amigos foram a uma lanchonete, e fizeram os seguintes pedidos:\n",
    "\n",
    "* 1 x-salada e 1 suco de laranja, no total de R$10,00,\n",
    "* 2 x-salada e 2 suco de laranja, no total de R$20,00,\n",
    "* 2 x-salada e 1 suco de laranja, no total de R$13,00,\n",
    "* 4 x-salada e 2 suco de laranja, no total de R$26,00.\n",
    "\n",
    "\n",
    "1. Qual é o preço do x-salada?\n",
    "1. Qual é o preço do suco de laranja?\n",
    "1. Qual é o valor de uma compra de 1 x-salada e 2 sucos de laranja?\n"
   ]
  },
  {
   "cell_type": "code",
   "execution_count": 40,
   "metadata": {},
   "outputs": [
    {
     "data": {
      "text/plain": [
       "(array([[3.],\n",
       "        [7.]]),\n",
       " array([17.]))"
      ]
     },
     "execution_count": 40,
     "metadata": {},
     "output_type": "execute_result"
    }
   ],
   "source": [
    "pedidos = np.array([[1, 1], [2, 1]])\n",
    "precos = np.array([[10], [13]])\n",
    "\n",
    "valor = np.linalg.solve(pedidos, precos)\n",
    "\n",
    "compra = np.array([1, 2])\n",
    "\n",
    "custo = compra @ valor\n",
    "\n",
    "valor, custo\n"
   ]
  },
  {
   "cell_type": "markdown",
   "metadata": {},
   "source": [
    "O preço do x-salada é 3 reais e o do suco de laranja, 7. O valor da compra total é 17 reais. Utilizei o np.linalg.solve para realizar as multiplicações matriciais."
   ]
  },
  {
   "attachments": {},
   "cell_type": "markdown",
   "metadata": {},
   "source": [
    "# Exercício 4\n",
    "\n",
    "Cada real investido na empresa E1 deu um retorno de 50 centavos ao fim de um ano. Cada real investido na empresa E2 deu um retorno de 10 centavos ao fim de um ano. Uma corretora propôs duas carteiras: C1, em que cada real é dividido igualmente entre as empresas E1 e E2, e C2, que tem 75% de aplicação na empresa E1 e 25% na empresa E2.\n",
    "\n",
    "1. Se um investidor tem 5000 reais investidos na carteira C1 e 1000 na carteira C2, qual é o seu investimento nas empresas E1 e E2?\n",
    "1. Se um investidor tem 2000 reais investidos diretamente na empresa E1, e 2000 reais na empresa E2, qual seria o investimento nas carteiras C1 e C2 equivalente?\n",
    "1. Qual é a matriz que permite transformar investimentos nas empresas E1 e E2 em investimentos nas carteiras C1 e C2?"
   ]
  },
  {
   "attachments": {},
   "cell_type": "markdown",
   "metadata": {},
   "source": [
    "$$\n",
    "E_1 = 0.5 C_1 + 0.75 C_2 \\\\\n",
    "E_2 = 0.5 C_1 + 0.25 C_2 \n",
    "$$\n",
    "\n",
    "$$\n",
    "E = \\begin{bmatrix} 0.5 & 0.75 \\\\ 0.5 & 0.25 \\end{bmatrix} C\n",
    "$$"
   ]
  },
  {
   "cell_type": "code",
   "execution_count": 55,
   "metadata": {},
   "outputs": [
    {
     "data": {
      "text/plain": [
       "(array([[3250.],\n",
       "        [2750.]]),\n",
       " array([[4000.],\n",
       "        [   0.]]),\n",
       " array([[-1.,  3.],\n",
       "        [ 2., -2.]]))"
      ]
     },
     "execution_count": 55,
     "metadata": {},
     "output_type": "execute_result"
    }
   ],
   "source": [
    "empresas = np.array([[0.5, 0.75], [0.5, 0.25]])\n",
    "qtd_investida = np.array([[5000], [1000]])\n",
    "\n",
    "qtd_por_empresa = empresas @ qtd_investida\n",
    "\n",
    "investimento_empresa = np.array([[2000], [2000]])\n",
    "\n",
    "lucro = np.linalg.inv(empresas) @ investimento_empresa\n",
    "\n",
    "# qual a matriz que permite transformar investimentos nas empresas em investimentos nas carteiras\n",
    "\n",
    "matriz_transformacao = np.linalg.inv(empresas)\n",
    "\n",
    "qtd_por_empresa, lucro, matriz_transformacao"
   ]
  },
  {
   "attachments": {},
   "cell_type": "markdown",
   "metadata": {},
   "source": [
    "# Exercício 5\n",
    "\n",
    "Escreva o vetor $x$ tal que:\n",
    "\n",
    "$$\n",
    "\\begin{bmatrix} -5 \\\\ 3 \\end{bmatrix} = \\begin{bmatrix} 0 & 1\\\\ 2 & 3 \\end{bmatrix} x\n",
    "$$"
   ]
  },
  {
   "cell_type": "code",
   "execution_count": 57,
   "metadata": {},
   "outputs": [
    {
     "data": {
      "text/plain": [
       "array([[ 9.],\n",
       "       [-5.]])"
      ]
     },
     "execution_count": 57,
     "metadata": {},
     "output_type": "execute_result"
    }
   ],
   "source": [
    "resultado = np.array([[-5], [3]])\n",
    "matriz_multiplica = np.array([[0, 1], [2, 3]])\n",
    "\n",
    "x = np.linalg.inv(matriz_multiplica) @ resultado\n",
    "\n",
    "x"
   ]
  },
  {
   "attachments": {},
   "cell_type": "markdown",
   "metadata": {},
   "source": [
    "# Exercício 6\n",
    "\n",
    "\n",
    "Olhando uma foto do mapa em satélite da região próxima à Vila Olímpia, vemos a seguinte situação:\n",
    "\n",
    "* O Insper, que está na latitude/longitude `[-23.59857192474643, -46.67653800340679]`, está no pixel `(400, 100)`.\n",
    "* A escola Móbile, originalmente em `[-23.598451299397993, -46.66985259860919]`, está no pixel `(400, 200)`.\n",
    "* O cachorródromo do parque Ibirapuera, que fica em `[-23.59247353738838, -46.66154847926121]`, está no pixel `(200, 400)`\n",
    "\n",
    "Em que pixel deve aparecer o Burguer King, que fica na esquina da Avenida Santo Amaro com a Hélio Pelegrino, na latitude/longitude `[-23.597723757411057, -46.67377935273308]`?"
   ]
  },
  {
   "cell_type": "code",
   "execution_count": 67,
   "metadata": {},
   "outputs": [
    {
     "data": {
      "text/plain": [
       "array([[372.6011551 ],\n",
       "       [151.64620662],\n",
       "       [  1.        ]])"
      ]
     },
     "execution_count": 67,
     "metadata": {},
     "output_type": "execute_result"
    }
   ],
   "source": [
    "coordenadas = np.array([[-23.59857192474643, -46.67653800340679], [-23.598451299397993, -46.66985259860919], [-23.59247353738838, -46.66154847926121]])\n",
    "pixels = np.array([[400, 100], [400, 200], [200, 400]])\n",
    "\n",
    "v = np.vstack((coordenadas.T, np.ones(coordenadas.shape[0])))\n",
    "w = np.vstack((pixels.T, np.ones(pixels.shape[0])))\n",
    "B = w @ np.linalg.inv(v)\n",
    "\n",
    "pixel_bk = B @ np.array([[-23.597723757411057, -46.67377935273308, 1]]).T\n",
    "\n",
    "pixel_bk"
   ]
  }
 ],
 "metadata": {
  "kernelspec": {
   "display_name": "base",
   "language": "python",
   "name": "python3"
  },
  "language_info": {
   "codemirror_mode": {
    "name": "ipython",
    "version": 3
   },
   "file_extension": ".py",
   "mimetype": "text/x-python",
   "name": "python",
   "nbconvert_exporter": "python",
   "pygments_lexer": "ipython3",
   "version": "3.11.4"
  },
  "orig_nbformat": 4
 },
 "nbformat": 4,
 "nbformat_minor": 2
}
