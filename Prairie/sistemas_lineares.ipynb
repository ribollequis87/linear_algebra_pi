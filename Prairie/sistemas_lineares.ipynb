{
 "cells": [
  {
   "cell_type": "code",
   "execution_count": 1,
   "metadata": {},
   "outputs": [],
   "source": [
    "import numpy as np"
   ]
  },
  {
   "cell_type": "markdown",
   "metadata": {},
   "source": [
    "## Exercício 1\n",
    "\n",
    "Dados os vetores A, B e C abaixo:\n",
    "\n",
    "import numpy as np\n",
    "\n",
    "A = np.array([0.68, 0.26, 0.67, 0.19, 0.52, 0.86, 0.15, 0.61, 0.37])\n",
    "\n",
    "B = np.array([0.41, 0.26, 0.23, 0.03, 0.70, 0.31, 0.23, 0.44, 0.25])\n",
    "\n",
    "C = np.array([0.28, 0.69, 0.86, 0.74, 0.94, 0.97, 0.31, 0.80, 0.55])\n",
    "\n",
    "Qual o valor de D para D = (A + B) $\\odot$ C?"
   ]
  },
  {
   "cell_type": "code",
   "execution_count": 2,
   "metadata": {},
   "outputs": [
    {
     "data": {
      "text/plain": [
       "array([0.3052, 0.3588, 0.774 , 0.1628, 1.1468, 1.1349, 0.1178, 0.84  ,\n",
       "       0.341 ])"
      ]
     },
     "execution_count": 2,
     "metadata": {},
     "output_type": "execute_result"
    }
   ],
   "source": [
    "A = np.array([0.68, 0.26, 0.67, 0.19, 0.52, 0.86, 0.15, 0.61, 0.37])\n",
    "B = np.array([0.41, 0.26, 0.23, 0.03, 0.70, 0.31, 0.23, 0.44, 0.25])\n",
    "C = np.array([0.28, 0.69, 0.86, 0.74, 0.94, 0.97, 0.31, 0.80, 0.55])\n",
    "\n",
    "D = (A + B) * C\n",
    "D"
   ]
  },
  {
   "cell_type": "markdown",
   "metadata": {},
   "source": [
    "## Exercício 2\n",
    "\n",
    "Dados os vetores A e B abaixo:\n",
    "\n",
    "import numpy as np\n",
    "\n",
    "A = np.array([[0.01, 0.67, 0.57, 0.01, 0.70, 0.84, 0.45, 0.22, 0.42, 0.09, 0.62, 0.76]])\n",
    "B = np.array([[0.68, 0.38, 0.31, 0.24, 0.50, 0.11, 0.11, 0.12, 0.36, 0.29, 0.32, 0.04]])\n",
    "\n",
    "Qual o valor de < A, B >?"
   ]
  },
  {
   "cell_type": "code",
   "execution_count": 3,
   "metadata": {},
   "outputs": [
    {
     "data": {
      "text/plain": [
       "array([[1.3649]])"
      ]
     },
     "execution_count": 3,
     "metadata": {},
     "output_type": "execute_result"
    }
   ],
   "source": [
    "A = np.array([[0.01, 0.67, 0.57, 0.01, 0.70, 0.84, 0.45, 0.22, 0.42, 0.09, 0.62, 0.76]])\n",
    "B = np.array([[0.68, 0.38, 0.31, 0.24, 0.50, 0.11, 0.11, 0.12, 0.36, 0.29, 0.32, 0.04]])\n",
    "\n",
    "np.inner(A, B) # produto interno"
   ]
  },
  {
   "cell_type": "markdown",
   "metadata": {},
   "source": [
    "## Exercício 3\n",
    "\n",
    "Dadas as matrizes:\n",
    "\n",
    "A pertence R^18x13\n",
    "\n",
    "X pertence R^13x14\n",
    "\n",
    "Y = AX\n",
    "\n",
    "Responda:\n",
    "\n",
    "Quantas linhas existem na matriz Y?"
   ]
  },
  {
   "cell_type": "code",
   "execution_count": 7,
   "metadata": {},
   "outputs": [
    {
     "data": {
      "text/plain": [
       "(18, 14)"
      ]
     },
     "execution_count": 7,
     "metadata": {},
     "output_type": "execute_result"
    }
   ],
   "source": [
    "A = np.random.rand(18, 13)\n",
    "X = np.random.rand(13, 14)\n",
    "\n",
    "Y = np.dot(A, X)\n",
    "\n",
    "Y.shape # (linha, coluna), o que queremos é a linha"
   ]
  },
  {
   "cell_type": "markdown",
   "metadata": {},
   "source": [
    "## Exercício 4\n",
    "\n",
    "Dadas as matrizes A^11x9 e B^9x11 abaixo:\n",
    "\n",
    "Calcule Y tal que Y = AB."
   ]
  },
  {
   "cell_type": "code",
   "execution_count": 4,
   "metadata": {},
   "outputs": [
    {
     "data": {
      "text/plain": [
       "array([[1.6383, 1.3331, 1.638 , 1.5012, 1.3151, 1.4666, 1.3348, 1.2472,\n",
       "        1.1167, 1.0908, 1.6779],\n",
       "       [2.8936, 2.9424, 2.862 , 3.0619, 1.9066, 2.7199, 2.6817, 2.0577,\n",
       "        1.61  , 1.9608, 3.5041],\n",
       "       [2.8941, 2.8593, 2.4703, 2.5542, 1.8386, 2.1427, 2.3028, 1.5788,\n",
       "        1.5135, 1.4648, 3.1076],\n",
       "       [1.7003, 1.4077, 1.1037, 1.6235, 0.6515, 1.0282, 0.96  , 0.7134,\n",
       "        0.7605, 0.6334, 1.6666],\n",
       "       [2.4986, 2.6199, 2.1747, 2.1774, 1.6194, 2.1264, 1.8744, 1.6237,\n",
       "        1.5096, 1.3353, 2.7911],\n",
       "       [2.6409, 2.5712, 2.6768, 2.3707, 2.3216, 2.5621, 2.4954, 2.063 ,\n",
       "        1.929 , 1.8006, 2.9108],\n",
       "       [2.8802, 2.5434, 2.6388, 2.545 , 1.9977, 2.1869, 2.159 , 1.8841,\n",
       "        1.632 , 1.7053, 2.8865],\n",
       "       [3.1224, 2.9116, 2.774 , 2.4994, 2.0911, 2.932 , 2.3186, 2.1312,\n",
       "        1.7466, 1.9842, 3.4204],\n",
       "       [3.0432, 2.8589, 2.4942, 2.4022, 1.9649, 2.7254, 2.2776, 1.9212,\n",
       "        1.7624, 1.669 , 3.2893],\n",
       "       [3.005 , 2.6383, 2.67  , 3.2918, 1.6907, 2.3962, 2.1686, 2.3084,\n",
       "        1.9491, 1.6456, 3.1723],\n",
       "       [2.6138, 2.4287, 1.9703, 2.3268, 1.6   , 2.4715, 1.9977, 1.6675,\n",
       "        1.3472, 1.9164, 2.7479]])"
      ]
     },
     "execution_count": 4,
     "metadata": {},
     "output_type": "execute_result"
    }
   ],
   "source": [
    "A = np.array([[0.32, 0.29, 0.15, 0.63, 0.27, 0.19, 0.27, 0.24, 0.15], [0.83, 0.49, 0.24, 0.41, 0.99, 0.50, 0.11, 0.82, 0.24], [0.53, 0.08, 0.49, 0.18, 0.69, 0.85, 0.55, 0.26, 0.73], [0.07, 0.29, 0.54, 0.01, 0.10, 0.90, 0.10, 0.21, 0.16], [0.38, 0.19, 0.38, 0.05, 0.38, 0.11, 0.52, 0.91, 0.87], [0.84, 0.04, 0.12, 0.59, 0.42, 0.23, 0.83, 0.49, 0.71], [0.47, 0.31, 0.59, 0.68, 0.63, 0.33, 0.52, 0.34, 0.42], [0.79, 0.70, 0.12, 0.68, 0.59, 0.30, 0.02, 0.57, 0.80], [0.91, 0.49, 0.11, 0.28, 0.26, 0.92, 0.36, 0.20, 0.97], [0.61, 0.70, 0.78, 0.13, 0.11, 0.63, 0.77, 0.91, 0.07], [0.95, 0.22, 0.57, 0.39, 0.29, 0.26, 0.03, 0.72, 0.47]])\n",
    "B = np.array([[0.52, 0.58, 0.43, 0.57, 0.45, 0.94, 0.76, 0.66, 0.30, 0.86, 0.67], [0.80, 0.56, 0.83, 0.64, 0.15, 0.50, 0.07, 0.86, 0.43, 0.17, 0.81], [0.94, 0.61, 0.20, 0.64, 0.06, 0.11, 0.03, 0.18, 0.02, 0.43, 0.45], [0.72, 0.22, 0.73, 0.45, 0.95, 0.77, 0.59, 0.50, 0.65, 0.69, 0.49], [0.57, 0.91, 0.93, 0.72, 0.40, 0.27, 0.80, 0.30, 0.07, 0.30, 0.92], [0.63, 0.50, 0.39, 0.79, 0.29, 0.47, 0.60, 0.09, 0.38, 0.13, 0.76], [0.43, 0.43, 0.94, 0.69, 0.69, 0.23, 0.61, 0.77, 0.77, 0.08, 0.48], [0.49, 0.63, 0.52, 0.91, 0.38, 0.81, 0.66, 0.44, 0.55, 0.42, 0.85], [0.92, 0.98, 0.44, 0.03, 0.53, 0.67, 0.28, 0.22, 0.35, 0.26, 0.84]])\n",
    "\n",
    "Y = A @ B\n",
    "\n",
    "Y "
   ]
  },
  {
   "cell_type": "markdown",
   "metadata": {},
   "source": [
    "## Exercício 5\n",
    "\n",
    "Dado o sistema linear abaixo, apresente a notação matricial equivalente:\n",
    "\n",
    "+2,5x - 0.8y = 2.8\n",
    "\n",
    "+4.5x - 2.6y = 2.8"
   ]
  },
  {
   "cell_type": "markdown",
   "metadata": {},
   "source": [
    "Primeiro membro: \n",
    "\n",
    "    [2.5, -0.8]\n",
    "\n",
    "    [4.5, -2.6]\n",
    "\n",
    "Segundo membro: \n",
    "\n",
    "    [2.8]\n",
    "\n",
    "    [2.8]"
   ]
  },
  {
   "cell_type": "markdown",
   "metadata": {},
   "source": [
    "## Exercício 6\n",
    "\n",
    "Dado o sistema linear abaixo, apresente a notação matricial equivalente:\n",
    "\n",
    "0.2 + 0.7x + 2.7y = 0\n",
    "\n",
    "2.5 + 4.7x - 2.2y = 0"
   ]
  },
  {
   "cell_type": "markdown",
   "metadata": {},
   "source": [
    "Primeiro membro:\n",
    "\n",
    "    [0.7, 2.7]\n",
    "\n",
    "    [4.7, -2.2]\n",
    "\n",
    "Segundo membro:\n",
    "\n",
    "    [-0.2]\n",
    "\n",
    "    [-2.5]\n"
   ]
  },
  {
   "cell_type": "markdown",
   "metadata": {},
   "source": [
    "## Exercício 7 \n",
    "\n",
    "Dadas as matrizes A^5x3, B^3x4 e C^4x6\n",
    "\n",
    "Calcule Y tal que Y = (AB)C"
   ]
  },
  {
   "cell_type": "code",
   "execution_count": 5,
   "metadata": {},
   "outputs": [
    {
     "data": {
      "text/plain": [
       "array([[1.06942 , 0.3949  , 0.759654, 0.70073 , 0.669631, 0.911494],\n",
       "       [1.88279 , 0.740429, 1.31631 , 1.349554, 1.22498 , 1.6202  ],\n",
       "       [1.017626, 0.445253, 0.697974, 0.813922, 0.70259 , 0.873296],\n",
       "       [0.828591, 0.380066, 0.559565, 0.709975, 0.590339, 0.718387],\n",
       "       [2.101708, 0.756976, 1.494006, 1.360298, 1.302151, 1.803262]])"
      ]
     },
     "execution_count": 5,
     "metadata": {},
     "output_type": "execute_result"
    }
   ],
   "source": [
    "A = np.array([[0.29, 0.33, 0.46], [0.90, 0.57, 0.44], [0.60, 0.03, 0.68], [0.66, 0.04, 0.35], [0.69, 0.93, 0.22]])\n",
    "B = np.array([[0.09, 0.15, 0.00, 0.72], [0.83, 0.77, 0.29, 0.13], [0.34, 0.25, 0.17, 0.24]])\n",
    "C = np.array([[0.92, 0.02, 0.96, 0.34, 0.81, 0.76], [0.64, 0.29, 0.26, 0.40, 0.10, 0.64], [0.53, 0.51, 0.17, 0.21, 0.03, 0.25], [0.81, 0.49, 0.51, 0.95, 0.70, 0.71]])\n",
    "\n",
    "Y = (A @ B) @ C\n",
    "\n",
    "Y"
   ]
  },
  {
   "cell_type": "markdown",
   "metadata": {},
   "source": [
    "## Exercício 8\n",
    "\n",
    "Dado o sistema linear abaixo, calcule o valor das incógnitas em ordem:\n",
    "\n",
    "+7.9a +4.5b +2.0c +1.0d +6.9e +9.9f +8.4g  = 10.0 \n",
    "\n",
    "+5.3a +3.6b +5.5c +4.1d +10.0e +8.3f +1.5g  = 9.8 \n",
    "\n",
    "+5.7a +9.1b +1.3c +3.3d +4.2e +4.7f +4.7g  = 1.4 \n",
    "\n",
    "+8.1a +5.1b +8.0c +6.6d +4.7e +0.8f +4.4g  = 7.4 \n",
    "\n",
    "+2.3a +6.8b +9.1c +9.6d +3.6e +4.3f +6.0g  = 2.1 \n",
    "\n",
    "+3.9a +6.0b +5.6c +9.9d +2.8e +3.1f +9.5g  = 8.8 \n",
    "\n",
    "+6.8a +5.4b +3.2c +0.1d +2.7e +1.7f +0.6g  = 8.4 "
   ]
  },
  {
   "cell_type": "code",
   "execution_count": 2,
   "metadata": {},
   "outputs": [
    {
     "data": {
      "text/plain": [
       "array([ 8.80253316, -4.4174243 , -3.88292589,  9.12385675, -9.89098214,\n",
       "        8.733004  , -7.0510203 ])"
      ]
     },
     "execution_count": 2,
     "metadata": {},
     "output_type": "execute_result"
    }
   ],
   "source": [
    "a = np.array([[7.9, 4.5, 2, 1, 6.9, 9.9, 8.4], [5.3, 3.6, 5.5, 4.1, 10, 8.3, 1.5], [5.7, 9.1, 1.3, 3.3, 4.2, 4.7, 4.7], [8.1, 5.1, 8, 6.6, 4.7, 0.8, 4.4], [2.3, 6.8, 9.1, 9.6, 3.6, 4.3, 6], [3.9, 6, 5.6, 9.9, 2.8, 3.1, 9.5], [6.8, 5.4, 3.2, 0.1, 2.7, 1.7, 0.6]])\n",
    "b = np.array([10, 9.8, 1.4, 7.4, 2.1, 8.8, 8.4])\n",
    "\n",
    "x = np.linalg.solve(a, b)\n",
    "x"
   ]
  },
  {
   "cell_type": "markdown",
   "metadata": {},
   "source": [
    "## Exercício 9\n",
    "\n",
    "Considere as matrizes A 2x2, B 2x2 e C 2x2\n",
    "\n",
    "import numpy as np\n",
    "\n",
    "A = np.array([[1.40, 0.90], [0.10, 0.20]])\n",
    "\n",
    "B = np.array([[2.00, 1.80], [1.90, 1.50]])\n",
    "\n",
    "C = np.array([[0.90, 1.00], [1.50, 0.80]])\n",
    "\n",
    "Sabendo que ABABBABAX = C, calcule X    "
   ]
  },
  {
   "cell_type": "code",
   "execution_count": 11,
   "metadata": {},
   "outputs": [
    {
     "data": {
      "text/plain": [
       "array([[-14978151.22190787,  -7267481.31654479],\n",
       "       [ 20774805.32905673,  10080049.7582223 ]])"
      ]
     },
     "execution_count": 11,
     "metadata": {},
     "output_type": "execute_result"
    }
   ],
   "source": [
    "A = np.array([[1.40, 0.90], [0.10, 0.20]])\n",
    "B = np.array([[2.00, 1.80], [1.90, 1.50]])\n",
    "C = np.array([[0.90, 1.00], [1.50, 0.80]])\n",
    "\n",
    "D = (((((((A @ B) @ A) @ B) @ B) @ A) @ B) @ A)\n",
    "\n",
    "X = np.linalg.solve(D, C)\n",
    "X"
   ]
  },
  {
   "cell_type": "markdown",
   "metadata": {},
   "source": [
    "## Exercício 9\n",
    "\n",
    "Considere as matrizes A 2x2, B 2x2 e C 2x2\n",
    "\n",
    "import numpy as np\n",
    "\n",
    "A = np.array([[0.80, 1.50], [1.20, 1.30]])\n",
    "\n",
    "B = np.array([[1.50, 1.60], [1.60, 1.90]])\n",
    "\n",
    "C = np.array([[1.10, 0.10], [1.70, 0.40]])\n",
    "\n",
    "Sabendo que AXB = C, calcule X"
   ]
  },
  {
   "cell_type": "code",
   "execution_count": 12,
   "metadata": {},
   "outputs": [
    {
     "data": {
      "text/plain": [
       "array([[ 6.24319419, -4.93194192],\n",
       "       [ 1.10707804, -1.0707804 ]])"
      ]
     },
     "execution_count": 12,
     "metadata": {},
     "output_type": "execute_result"
    }
   ],
   "source": [
    "A = np.array([[0.80, 1.50], [1.20, 1.30]])\n",
    "B = np.array([[1.50, 1.60], [1.60, 1.90]])\n",
    "C = np.array([[1.10, 0.10], [1.70, 0.40]])\n",
    "\n",
    "X = np.linalg.solve(A, C @ np.linalg.inv(B))\n",
    "X"
   ]
  }
 ],
 "metadata": {
  "kernelspec": {
   "display_name": ".venv",
   "language": "python",
   "name": "python3"
  },
  "language_info": {
   "codemirror_mode": {
    "name": "ipython",
    "version": 3
   },
   "file_extension": ".py",
   "mimetype": "text/x-python",
   "name": "python",
   "nbconvert_exporter": "python",
   "pygments_lexer": "ipython3",
   "version": "3.11.4"
  }
 },
 "nbformat": 4,
 "nbformat_minor": 2
}
