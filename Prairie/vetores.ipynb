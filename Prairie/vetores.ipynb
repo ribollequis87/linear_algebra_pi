{
 "cells": [
  {
   "cell_type": "code",
   "execution_count": 1,
   "metadata": {},
   "outputs": [],
   "source": [
    "import numpy as np"
   ]
  },
  {
   "cell_type": "markdown",
   "metadata": {},
   "source": [
    "## Exercício 1\n",
    "\n",
    "Dada a equação abaixo, escolha o comando python que a implementa.\n",
    "vn = a vn-1 + a2 vn-1 + a5 vn-1"
   ]
  },
  {
   "cell_type": "code",
   "execution_count": 3,
   "metadata": {},
   "outputs": [],
   "source": [
    "a = 0\n",
    "v = 0\n",
    "\n",
    "v = a*v + a**2 * v + a**5 * v "
   ]
  },
  {
   "cell_type": "markdown",
   "metadata": {},
   "source": [
    "## Exercício 2\n",
    "\n",
    "Dado o vetor v:\n",
    "\n",
    "v = [8 8 8 6]\n",
    "\n",
    "e o escalar a = 6.05. Calcule a * v."
   ]
  },
  {
   "cell_type": "code",
   "execution_count": 4,
   "metadata": {},
   "outputs": [
    {
     "data": {
      "text/plain": [
       "array([48.4, 48.4, 48.4, 36.3])"
      ]
     },
     "execution_count": 4,
     "metadata": {},
     "output_type": "execute_result"
    }
   ],
   "source": [
    "vetor = np.array([8, 8, 8, 6])\n",
    "a = 6.05\n",
    "\n",
    "a * vetor"
   ]
  },
  {
   "cell_type": "markdown",
   "metadata": {},
   "source": [
    "## Exercício 3\n",
    "\n",
    "Dados os vetores v1 e v2: \n",
    "\n",
    "v1 = [5 5 5 3]\n",
    "\n",
    "v2 = [4 8 6 4]\n",
    "\n",
    "Calcule v1 + v2 =:"
   ]
  },
  {
   "cell_type": "code",
   "execution_count": 5,
   "metadata": {},
   "outputs": [
    {
     "data": {
      "text/plain": [
       "array([ 9, 13, 11,  7])"
      ]
     },
     "execution_count": 5,
     "metadata": {},
     "output_type": "execute_result"
    }
   ],
   "source": [
    "v1 = np.array([5, 5, 5, 3])\n",
    "v2 = np.array([4, 8, 6, 4])\n",
    "\n",
    "v1 + v2"
   ]
  },
  {
   "cell_type": "markdown",
   "metadata": {},
   "source": [
    "## Exercício 4\n",
    "\n",
    "Dado o vetor v:\n",
    "\n",
    "v = [0.1 1.0 0.9 0.6]\n",
    "\n",
    "Calcule, módulo de v:"
   ]
  },
  {
   "cell_type": "code",
   "execution_count": 3,
   "metadata": {},
   "outputs": [
    {
     "data": {
      "text/plain": [
       "1.47648230602334"
      ]
     },
     "execution_count": 3,
     "metadata": {},
     "output_type": "execute_result"
    }
   ],
   "source": [
    "v = np.array([0.1, 1.0, 0.9, 0.6])\n",
    "\n",
    "def modulo_C(x):\n",
    "    mod = np.linalg.norm(x)\n",
    "    return mod\n",
    "\n",
    "modulo_C(v)"
   ]
  },
  {
   "cell_type": "markdown",
   "metadata": {},
   "source": [
    "## Exercício 5\n",
    "\n",
    "Dados os vetores v1 e v2:\n",
    "\n",
    "v1 = [8 6 5 5]\n",
    "\n",
    "v2 = [4 9 5 4]\n",
    "\n",
    "Calcule o módulo de v1 + v2 e módulo de v1 + módulo de v2"
   ]
  },
  {
   "cell_type": "code",
   "execution_count": 9,
   "metadata": {},
   "outputs": [
    {
     "data": {
      "text/plain": [
       "(23.45207879911715, 23.99478883838662)"
      ]
     },
     "execution_count": 9,
     "metadata": {},
     "output_type": "execute_result"
    }
   ],
   "source": [
    "v1 = np.array([8, 6, 5, 5])\n",
    "v2 = np.array([4, 9, 5, 4])\n",
    "\n",
    "modulo_C((v1 + v2)), (modulo_C(v1) + modulo_C(v2))"
   ]
  },
  {
   "cell_type": "markdown",
   "metadata": {},
   "source": [
    "## Exercício 6\n",
    "\n",
    "Em uma cidade, a catedral está 2km ao norte da praça.\n",
    "\n",
    "O museu está a 10km ao oeste da catedral.\n",
    "\n",
    "Qual a distância em linha reta entre a praça e o museu (em km)?"
   ]
  },
  {
   "cell_type": "code",
   "execution_count": 11,
   "metadata": {},
   "outputs": [
    {
     "data": {
      "text/plain": [
       "10.198039027185569"
      ]
     },
     "execution_count": 11,
     "metadata": {},
     "output_type": "execute_result"
    }
   ],
   "source": [
    "v = np.array([-10, 2])\n",
    "\n",
    "modulo_C(v)"
   ]
  },
  {
   "cell_type": "markdown",
   "metadata": {},
   "source": [
    "## Exercício 7\n",
    "\n",
    "Um avião voa a uma velocidade de 109km/h em relação ao ar.\n",
    "\n",
    "O vento incide perpendicularmente sobre o avião a 42km/h.\n",
    "\n",
    "Qual a velocidade do avião em relação ao chão (em km)?"
   ]
  },
  {
   "cell_type": "code",
   "execution_count": 4,
   "metadata": {},
   "outputs": [
    {
     "data": {
      "text/plain": [
       "116.81181447096864"
      ]
     },
     "execution_count": 4,
     "metadata": {},
     "output_type": "execute_result"
    }
   ],
   "source": [
    "vel_aviao = 109\n",
    "vel_vento = 42\n",
    "\n",
    "v = [vel_aviao, vel_vento]\n",
    "\n",
    "modulo_C(v)"
   ]
  },
  {
   "cell_type": "markdown",
   "metadata": {},
   "source": [
    "## Exercício 8\n",
    "\n",
    "Um canhão na posição (0,0) dispara um projétil em direção ao ponto (14,16).\n",
    "\n",
    "Determine o vetor v referente ao projétil sabendo que ||v|| = 6."
   ]
  },
  {
   "cell_type": "markdown",
   "metadata": {},
   "source": [
    "É uma semelhança de triângulos, então encontrei a norma do ponto (hipotenusa) e fiz, 6/norma está para x/14 assim como y/16"
   ]
  },
  {
   "cell_type": "code",
   "execution_count": 9,
   "metadata": {},
   "outputs": [
    {
     "data": {
      "text/plain": [
       "(3.9510276472111086, 4.515460168241267)"
      ]
     },
     "execution_count": 9,
     "metadata": {},
     "output_type": "execute_result"
    }
   ],
   "source": [
    "modulo_v = 6 \n",
    "ponto = np.array([14, 16])\n",
    "\n",
    "x  = (14 * 3) / (113**0.5)\n",
    "y  = (16 * 3) / (113**0.5)\n",
    "\n",
    "x, y\n"
   ]
  },
  {
   "cell_type": "markdown",
   "metadata": {},
   "source": [
    "## Exercício 9\n",
    "\n",
    "Dados os 9 pontos abaixo em R^5:\n",
    "\n",
    "v = np.array([[0.36, 0.26, 0.41, 0.38, 0.34], [0.95, 0.45, 0.55, 0.89, 0.90], [0.32, 0.48, 0.47, 0.77, 0.21], [0.97, 0.23, 0.25, 0.66, 0.53], [0.26, 0.22, 0.30, 0.29, 0.20], [0.77, 0.90, 0.63, 0.66, 0.87], [0.78, 0.13, 0.05, 0.04, 0.63], [0.93, 0.53, 0.36, 0.66, 0.76], [0.74, 0.81, 0.25, 0.18, 0.33]])"
   ]
  },
  {
   "cell_type": "code",
   "execution_count": 11,
   "metadata": {},
   "outputs": [
    {
     "data": {
      "text/plain": [
       "array([0.26, 0.22, 0.3 , 0.29, 0.2 ])"
      ]
     },
     "execution_count": 11,
     "metadata": {},
     "output_type": "execute_result"
    }
   ],
   "source": [
    "v = np.array([[0.36, 0.26, 0.41, 0.38, 0.34], [0.95, 0.45, 0.55, 0.89, 0.90], [0.32, 0.48, 0.47, 0.77, 0.21], [0.97, 0.23, 0.25, 0.66, 0.53], [0.26, 0.22, 0.30, 0.29, 0.20], [0.77, 0.90, 0.63, 0.66, 0.87], [0.78, 0.13, 0.05, 0.04, 0.63], [0.93, 0.53, 0.36, 0.66, 0.76], [0.74, 0.81, 0.25, 0.18, 0.33]])\n",
    "\n",
    "menor_norma = 99999\n",
    "array_menor = ''\n",
    "\n",
    "for array in v:\n",
    "    norma = modulo_C(array)\n",
    "\n",
    "    if norma < menor_norma:\n",
    "        menor_norma = norma\n",
    "        array_menor = array\n",
    "\n",
    "array_menor"
   ]
  }
 ],
 "metadata": {
  "kernelspec": {
   "display_name": ".venv",
   "language": "python",
   "name": "python3"
  },
  "language_info": {
   "codemirror_mode": {
    "name": "ipython",
    "version": 3
   },
   "file_extension": ".py",
   "mimetype": "text/x-python",
   "name": "python",
   "nbconvert_exporter": "python",
   "pygments_lexer": "ipython3",
   "version": "3.11.4"
  }
 },
 "nbformat": 4,
 "nbformat_minor": 2
}
