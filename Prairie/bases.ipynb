{
 "cells": [
  {
   "cell_type": "code",
   "execution_count": 1,
   "metadata": {},
   "outputs": [],
   "source": [
    "import numpy as np"
   ]
  },
  {
   "cell_type": "markdown",
   "metadata": {},
   "source": [
    "## Exercício 1\n",
    "\n",
    "A matriz A apresentada abaixo pode ser utilizada para converter um pixel no formato RGB para um pixel no formato YIQ.\n",
    "\n",
    "A = np.array( [[0.299, 0.587, 0.144], [0.5959, -0.2746, -0.3213], [0.2115, -0.5227, 0.3112]] ) \n",
    "\n",
    "Dada a cor (179,183,119) representada em RGB, qual a representação desta mesma cor em YIQ?"
   ]
  },
  {
   "cell_type": "code",
   "execution_count": 3,
   "metadata": {},
   "outputs": [
    {
     "data": {
      "text/plain": [
       "array([178.078 ,  18.1796, -20.7628])"
      ]
     },
     "execution_count": 3,
     "metadata": {},
     "output_type": "execute_result"
    }
   ],
   "source": [
    "A = np.array( [[0.299, 0.587, 0.144], [0.5959, -0.2746, -0.3213], [0.2115, -0.5227, 0.3112]] ) \n",
    "\n",
    "R = np.array( [179, 183, 119] )\n",
    "\n",
    "A @ R"
   ]
  },
  {
   "cell_type": "markdown",
   "metadata": {},
   "source": [
    "## Exercício 2\n",
    "\n",
    "A matriz A apresentada abaixo pode ser utilizada para converter um pixel no formato RGB para um pixel em um espaço inf.\n",
    "\n",
    "A = np.array( [ [0.084,0.059,-0.430],[0.127,-0.031,0.331],[-0.355,-0.303,-0.377] ] ) \n",
    "\n",
    "Um pixel de cor (1,103,73) representada em RGB foi transformado para o espaço inf, teve sua primeira componente zerada e foi transformado novamente para RGB. Qual é a cor do pixel resultante (arredondando para baixo)?\n"
   ]
  },
  {
   "cell_type": "code",
   "execution_count": 7,
   "metadata": {},
   "outputs": [
    {
     "data": {
      "text/plain": [
       "array([107.29884918,  36.90637906,  26.02460394])"
      ]
     },
     "execution_count": 7,
     "metadata": {},
     "output_type": "execute_result"
    }
   ],
   "source": [
    "A = np.array( [ [0.084,0.059,-0.430],[0.127,-0.031,0.331],[-0.355,-0.303,-0.377] ] ) \n",
    "\n",
    "R = np.array( [1, 103, 73] )\n",
    "\n",
    "matriz_resultante = A @ R\n",
    "\n",
    "matriz_resultante[0] = 0\n",
    "\n",
    "np.linalg.inv(A) @ matriz_resultante"
   ]
  },
  {
   "cell_type": "markdown",
   "metadata": {},
   "source": [
    "## Exercício 3\n",
    "\n",
    "Considere o ponto x = [6, 10] no plano cartesiano e os vetores v1 e v2 abaixo.\n",
    "\n",
    "v1 = [2, 1] \n",
    "v2 = [9, 4]\n",
    "\n",
    "Quais seriam os valores de a, b respectivamente de modo que x = av1 + bv2?"
   ]
  },
  {
   "cell_type": "code",
   "execution_count": 11,
   "metadata": {},
   "outputs": [
    {
     "data": {
      "text/plain": [
       "array([ 66., -14.])"
      ]
     },
     "execution_count": 11,
     "metadata": {},
     "output_type": "execute_result"
    }
   ],
   "source": [
    "v1 = np.array([2, 1])\n",
    "v2 = np.array([9, 4])\n",
    "\n",
    "x = np.array([6, 10])\n",
    "\n",
    "v = np.stack((v1, v2), axis=0).T\n",
    "v = np.linalg.inv(v)\n",
    "\n",
    "v @ x"
   ]
  },
  {
   "cell_type": "markdown",
   "metadata": {},
   "source": [
    "## Exercício 4\n",
    "\n",
    "Considere o ponto x no plano cartesiano e os vetores de base abaixo (Cada linha de v é um vetor).\n",
    "\n",
    "import numpy as np\n",
    "\n",
    "x = np.array([[3, 2, 6, 7, 4, 8, 6, 3, 9, 5]])\n",
    "\n",
    "v = np.array([[2, 8, 9, 1, 7, 3, 6, 8, 3, 3], [9, 3, 6, 7, 9, 8, 7, 1, 7, 7], [8, 9, 9, 3, 7, 2, 1, 6, 9, 7], [1, 9, 8, 7, 6, 5, 7, 0, 0, 1], [5, 5, 2, 4, 2, 0, 1, 3, 2, 2], [2, 0, 9, 4, 2, 0, 2, 5, 9, 7], [1, 9, 3, 1, 1, 8, 0, 7, 2, 0], [6, 5, 5, 2, 1, 4, 4, 9, 9, 4], [9, 2, 0, 9, 1, 8, 4, 9, 6, 0], [3, 2, 5, 6, 7, 6, 7, 2, 1, 1]])\n",
    "\n",
    "Qual o vetor equivalente a x na base v? Obs: A resposta deve estar no mesmo formato do vetor x (todos os valores em uma só linha)."
   ]
  },
  {
   "cell_type": "code",
   "execution_count": 18,
   "metadata": {},
   "outputs": [
    {
     "data": {
      "text/plain": [
       "array([[ 14.84995276,   8.35612249,   0.19625751,   8.51384352,\n",
       "        -15.58396155,   0.38591093,  -5.72571857, -12.96850541,\n",
       "         14.60724514, -27.58979363]])"
      ]
     },
     "execution_count": 18,
     "metadata": {},
     "output_type": "execute_result"
    }
   ],
   "source": [
    "x = np.array([[3, 2, 6, 7, 4, 8, 6, 3, 9, 5]]) \n",
    "v = np.array([[2, 8, 9, 1, 7, 3, 6, 8, 3, 3], [9, 3, 6, 7, 9, 8, 7, 1, 7, 7], [8, 9, 9, 3, 7, 2, 1, 6, 9, 7], [1, 9, 8, 7, 6, 5, 7, 0, 0, 1], [5, 5, 2, 4, 2, 0, 1, 3, 2, 2], [2, 0, 9, 4, 2, 0, 2, 5, 9, 7], [1, 9, 3, 1, 1, 8, 0, 7, 2, 0], [6, 5, 5, 2, 1, 4, 4, 9, 9, 4], [9, 2, 0, 9, 1, 8, 4, 9, 6, 0], [3, 2, 5, 6, 7, 6, 7, 2, 1, 1]])\n",
    "\n",
    "v_transposta = v.T # está tudo em uma linha e queremos que seja coluna para conseguir fazer direito a multiplicação\n",
    "\n",
    "np.linalg.solve(v_transposta, x.T).T # x.T é para transformar a matriz x em coluna\n",
    "\n",
    "# também pode ser feito da seguinte maneira\n",
    "v_inv = np.linalg.inv(v_transposta)\n",
    "\n",
    "(v_inv @ x.T).T # só fizemos a transposta porque ele quer assim no prairie learn"
   ]
  },
  {
   "cell_type": "markdown",
   "metadata": {},
   "source": [
    "## Exercício 5\n",
    "\n",
    "Considere o ponto x no plano cartesiano e os vetores v2, v2 e v3 abaixo.\n",
    "\n",
    "import numpy as np\n",
    "\n",
    "x = np.array([[3, 1, 2]])\n",
    "\n",
    "v1 = np.array([[6, 3, 0]])\n",
    "\n",
    "v2 = np.array([[6, 2, 9]])\n",
    "\n",
    "v3 = np.array([[9, 1, 6]])\n",
    "\n",
    "Qual a matriz que leva x para o espaço determinado pelos vetores v1, v2 e v3?"
   ]
  },
  {
   "cell_type": "code",
   "execution_count": 24,
   "metadata": {},
   "outputs": [
    {
     "data": {
      "text/plain": [
       "array([[ 0.01960784,  0.29411765, -0.07843137],\n",
       "       [-0.11764706,  0.23529412,  0.1372549 ],\n",
       "       [ 0.17647059, -0.35294118, -0.03921569]])"
      ]
     },
     "execution_count": 24,
     "metadata": {},
     "output_type": "execute_result"
    }
   ],
   "source": [
    "x = np.array([[3, 1, 2]])\n",
    "v1 = np.array([[6, 3, 0]])\n",
    "v2 = np.array([[6, 2, 9]])\n",
    "v3 = np.array([[9, 1, 6]])\n",
    "\n",
    "B = np.vstack((v1, v2, v3)).T\n",
    "\n",
    "np.linalg.inv(B) # qual a matriz que tenho que multiplicar os meus pontos para chegar no meu novo espaço? por isso fazemos a inversa da B"
   ]
  },
  {
   "cell_type": "markdown",
   "metadata": {},
   "source": [
    "## Exercício 6\n",
    "\n",
    "Calcule a matriz que levaria um ponto no espaço v para o respectivo vetor no espaço w. Ou seja, a matriz B tal que Bv = w.\n",
    "\n"
   ]
  },
  {
   "cell_type": "code",
   "execution_count": 47,
   "metadata": {},
   "outputs": [
    {
     "data": {
      "text/plain": [
       "array([[ 1.429, -1.429,  0.   ],\n",
       "       [-0.204, -1.224,  2.857],\n",
       "       [ 0.   ,  0.   ,  1.   ]])"
      ]
     },
     "execution_count": 47,
     "metadata": {},
     "output_type": "execute_result"
    }
   ],
   "source": [
    "v1 = np.array([0, 0])\n",
    "v2 = np.array([0, 1])\n",
    "v3 = np.array([1, 1])\n",
    "\n",
    "v = np.vstack((v1, v2, v3)).T\n",
    "v = np.vstack((v, np.ones(v.shape[1])))\n",
    "\n",
    "w1 = np.array([2, 2])\n",
    "w2 = np.array([1.3, 1.3])\n",
    "w3 = np.array([1.9, 1.2])\n",
    "\n",
    "w = np.vstack((w1, w2, w3)).T\n",
    "w = np.vstack((w, np.ones(w.shape[1])))\n",
    "\n",
    "B = v @ np.linalg.inv(w)\n",
    "\n",
    "np.round(B, 3)"
   ]
  },
  {
   "cell_type": "code",
   "execution_count": 6,
   "metadata": {},
   "outputs": [
    {
     "name": "stdout",
     "output_type": "stream",
     "text": [
      "[[ -2.  ]\n",
      " [-20.2 ]\n",
      " [  1.01]]\n"
     ]
    }
   ],
   "source": [
    "d = 2\n",
    "\n",
    "a = 0.1\n",
    "b = 1.01\n",
    "objeto = np.array([[a], [b], [1]])\n",
    "P = np.array([ [0,0,-d], [-1/d, 0, 0], [0, 1, 0] ])\n",
    "projecao = P @ objeto\n",
    "\n",
    "projecao[1] = projecao[2] / projecao[1]\n",
    "print(projecao)"
   ]
  },
  {
   "cell_type": "code",
   "execution_count": 4,
   "metadata": {},
   "outputs": [
    {
     "name": "stdout",
     "output_type": "stream",
     "text": [
      "[-1.] [-4.] [-1.53846154] [-6.15384615]\n"
     ]
    },
    {
     "data": {
      "text/plain": [
       "array([5.50470482])"
      ]
     },
     "execution_count": 4,
     "metadata": {},
     "output_type": "execute_result"
    }
   ],
   "source": [
    "d = 1\n",
    "\n",
    "a = 13\n",
    "b = 20\n",
    "objeto = np.array([[a], [b], [1]])\n",
    "P = np.array([ [0,0,-d], [-1/d, 0, 0], [0, 1, 0] ])\n",
    "projecao = P @ objeto\n",
    "\n",
    "projecao[1] = projecao[2] / projecao[1]\n",
    "x = projecao[0]\n",
    "y = projecao[1]\n",
    "\n",
    "d_ = 4\n",
    "P = np.array([ [0,0,-d_], [-1/d_, 0, 0], [0, 1, 0] ])\n",
    "projecao = P @ objeto \n",
    "\n",
    "projecao[1] = projecao[2] / projecao[1]\n",
    "x_ = projecao[0]\n",
    "y_ = projecao[1]\n",
    "print(x, x_, y, y_)\n",
    "\n",
    "distancia = ((x - x_)**2 + (y - y_)**2)**0.5\n",
    "distancia"
   ]
  }
 ],
 "metadata": {
  "kernelspec": {
   "display_name": ".venv",
   "language": "python",
   "name": "python3"
  },
  "language_info": {
   "codemirror_mode": {
    "name": "ipython",
    "version": 3
   },
   "file_extension": ".py",
   "mimetype": "text/x-python",
   "name": "python",
   "nbconvert_exporter": "python",
   "pygments_lexer": "ipython3",
   "version": "3.11.4"
  }
 },
 "nbformat": 4,
 "nbformat_minor": 2
}
